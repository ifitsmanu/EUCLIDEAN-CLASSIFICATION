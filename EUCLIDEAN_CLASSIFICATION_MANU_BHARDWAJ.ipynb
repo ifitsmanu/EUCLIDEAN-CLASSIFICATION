{
 "cells": [
  {
   "cell_type": "code",
   "execution_count": 35,
   "id": "c920d318",
   "metadata": {},
   "outputs": [],
   "source": [
    "import random as R\n",
    "import math\n",
    "import numpy as np\n",
    "from dataclasses import dataclass\n",
    "from matplotlib import pyplot as plt"
   ]
  },
  {
   "cell_type": "markdown",
   "id": "271b7343",
   "metadata": {},
   "source": [
    "<h3> Euclidean Classifier Development </h3>"
   ]
  },
  {
   "cell_type": "code",
   "execution_count": 36,
   "id": "070d1afa",
   "metadata": {},
   "outputs": [],
   "source": [
    "Yuan_data=np.array([\n",
    "    [62.08,7.98,5.03,534.56,965.18,17.21,0.94],\n",
    "    [73.72,8.40,6.37,835.25,463.29,15.49,1.06],\n",
    "    [77.60,6.30,6.70,890.93,463.29,17.21,0.56],\n",
    "    [77.60,6.72,5.03,534.56,463.29,13.77,0.56],\n",
    "    [69.84,6.72,5.36,1113.67,965.18,8.26,1.06]\n",
    "])\n",
    "\n",
    "Xia_data=np.array([\n",
    "    [96.00,4.80,6.40,3157.92,1697.28,57.60,14.40],\n",
    "    [96.00,51.84,8.00,6.00,3508.80,1909.44,14.40],\n",
    "    [57.60,4.80,7.20,3157.92,1909.44,43.20,14.40],\n",
    "    [114.00,4.80,7.60,3333.36,1697.28,54.72,17.10],\n",
    "    [90.00,9.00,7.60,2631.60,1018.37,43.20,16.20]\n",
    "])"
   ]
  },
  {
   "cell_type": "code",
   "execution_count": 37,
   "id": "830d8efe",
   "metadata": {},
   "outputs": [
    {
     "data": {
      "text/plain": [
       "array([[6.20800e+01, 7.98000e+00, 5.03000e+00, 5.34560e+02, 9.65180e+02,\n",
       "        1.72100e+01, 9.40000e-01],\n",
       "       [7.37200e+01, 8.40000e+00, 6.37000e+00, 8.35250e+02, 4.63290e+02,\n",
       "        1.54900e+01, 1.06000e+00],\n",
       "       [7.76000e+01, 6.30000e+00, 6.70000e+00, 8.90930e+02, 4.63290e+02,\n",
       "        1.72100e+01, 5.60000e-01],\n",
       "       [7.76000e+01, 6.72000e+00, 5.03000e+00, 5.34560e+02, 4.63290e+02,\n",
       "        1.37700e+01, 5.60000e-01],\n",
       "       [6.98400e+01, 6.72000e+00, 5.36000e+00, 1.11367e+03, 9.65180e+02,\n",
       "        8.26000e+00, 1.06000e+00]])"
      ]
     },
     "execution_count": 37,
     "metadata": {},
     "output_type": "execute_result"
    }
   ],
   "source": [
    "Yuan_data"
   ]
  },
  {
   "cell_type": "code",
   "execution_count": 38,
   "id": "9a150b16",
   "metadata": {},
   "outputs": [
    {
     "data": {
      "text/plain": [
       "77.64649999999999"
      ]
     },
     "execution_count": 38,
     "metadata": {},
     "output_type": "execute_result"
    }
   ],
   "source": [
    "R.choice([Yuan_data[:,0].max(),Yuan_data[:,0].min()])+(Yuan_data[:,0].mean()/(Yuan_data[:,0].max()-Yuan_data[:,0].min()))*R.choice([0.01,0.001])"
   ]
  },
  {
   "cell_type": "markdown",
   "id": "5850bb79",
   "metadata": {},
   "source": [
    "<h3> Part I: Synthetic data Generation </h3>"
   ]
  },
  {
   "cell_type": "code",
   "execution_count": 39,
   "id": "89d894f3",
   "metadata": {},
   "outputs": [],
   "source": [
    "@dataclass\n",
    "class Yuan:\n",
    "    SampleNumber:int\n",
    "    Length:float\n",
    "    Bean:float\n",
    "    Draft:float\n",
    "    Pressure:float\n",
    "    Vortex:float\n",
    "    Magnetic:float\n",
    "    Light:float\n",
    "    Class:str\n",
    "\n",
    "    def __init__(self):\n",
    "        pass\n",
    "\n",
    "    def generate(self):\n",
    "        #generate data with two decimal places\n",
    "        global Yuan_data\n",
    "        self.SampleNumber=len(Yuan_data)+1\n",
    "        self.Length=R.choice([Yuan_data[:,0].max(),Yuan_data[:,0].min()])+(Yuan_data[:,0].mean()/(Yuan_data[:,0].max()-Yuan_data[:,0].min()))*R.choice([0.01,0.001])\n",
    "        self.Beam=R.choice([Yuan_data[:,1].max(),Yuan_data[:,1].min()])+(Yuan_data[:,1].mean()/(Yuan_data[:,1].max()-Yuan_data[:,1].min()))*R.choice([0.01,0.001])\n",
    "        self.Draft=R.choice([Yuan_data[:,2].max(),Yuan_data[:,2].min()])+(Yuan_data[:,2].mean()/(Yuan_data[:,2].max()-Yuan_data[:,2].min()))*R.choice([0.01,0.001])\n",
    "        self.Pressure=R.choice([Yuan_data[:,3].max(),Yuan_data[:,3].min()])+(Yuan_data[:,3].mean()/(Yuan_data[:,3].max()-Yuan_data[:,3].min()))*R.choice([0.01,0.001])\n",
    "        self.Vortex=R.choice([Yuan_data[:,4].max(),Yuan_data[:,4].min()])+(Yuan_data[:,4].mean()/(Yuan_data[:,4].max()-Yuan_data[:,4].min()))*R.choice([0.01,0.001])\n",
    "        self.Magnetic=R.choice([Yuan_data[:,5].max(),Yuan_data[:,5].min()])+(Yuan_data[:,5].mean()/(Yuan_data[:,5].max()-Yuan_data[:,5].min()))*R.choice([0.01,0.001])\n",
    "        self.Light=R.choice([Yuan_data[:,6].max(),Yuan_data[:,6].min()])+(Yuan_data[:,6].mean()/(Yuan_data[:,6].max()-Yuan_data[:,6].min()))*R.choice([0.01,0.001])\n",
    "        self.Class='YUAN'\n",
    "\n",
    "    def toVector(self):\n",
    "        return np.array([self.Length,self.Beam,self.Draft,self.Pressure,self.Vortex,self.Magnetic,self.Light])\n",
    "\n",
    "@dataclass\n",
    "class Xia:\n",
    "    SampleNumber:int\n",
    "    Length:float\n",
    "    Bean:float\n",
    "    Draft:float\n",
    "    Pressure:float\n",
    "    Vortex:float\n",
    "    Magnetic:float\n",
    "    Light:float\n",
    "    Class:str\n",
    "\n",
    "    def __init__(self):\n",
    "        pass\n",
    "    def generate(self):\n",
    "        global Xia_data\n",
    "        self.SampleNumber=len(Xia_data)+1\n",
    "        self.Length=R.choice([Xia_data[:,0].max(),Xia_data[:,0].min()])+(Xia_data[:,0].mean()/(Xia_data[:,0].max()-Xia_data[:,0].min()))*R.choice([0.01,0.001])\n",
    "        self.Beam=R.choice([Xia_data[:,1].max(),Xia_data[:,1].min()])+(Xia_data[:,1].mean()/(Xia_data[:,1].max()-Xia_data[:,1].min()))*R.choice([0.01,0.001])\n",
    "        self.Draft=R.choice([Xia_data[:,2].max(),Xia_data[:,2].min()])+(Xia_data[:,2].mean()/(Xia_data[:,2].max()-Xia_data[:,2].min()))*R.choice([0.01,0.001])\n",
    "        self.Pressure=R.choice([Xia_data[:,3].max(),Xia_data[:,3].min()])+(Xia_data[:,3].mean()/(Xia_data[:,3].max()-Xia_data[:,3].min()))*R.choice([0.01,0.001])\n",
    "        self.Vortex=R.choice([Xia_data[:,4].max(),Xia_data[:,4].min()])+(Xia_data[:,4].mean()/(Xia_data[:,4].max()-Xia_data[:,4].min()))*R.choice([0.01,0.001])\n",
    "        self.Magnetic=R.choice([Xia_data[:,5].max(),Xia_data[:,5].min()])+(Xia_data[:,5].mean()/(Xia_data[:,5].max()-Xia_data[:,5].min()))*R.choice([0.01,0.001])\n",
    "        self.Light=R.choice([Xia_data[:,6].max(),Xia_data[:,6].min()])+(Xia_data[:,6].mean()/(Xia_data[:,6].max()-Xia_data[:,6].min()))*R.choice([0.01,0.001])\n",
    "        self.Class='XIA'\n",
    "\n",
    "    def toVector(self):\n",
    "        return np.array([self.Length,self.Beam,self.Draft,self.Pressure,self.Vortex,self.Magnetic,self.Light])"
   ]
  },
  {
   "cell_type": "code",
   "execution_count": 40,
   "id": "3f09f18c",
   "metadata": {},
   "outputs": [],
   "source": [
    "samples_to_generae=10\n",
    "for i in range(samples_to_generae):\n",
    "    yuan=Yuan()\n",
    "    yuan.generate()\n",
    "    xia=Xia()\n",
    "    xia.generate()\n",
    "    Yuan_data=np.vstack((Yuan_data,yuan.toVector()))\n",
    "    Xia_data=np.vstack((Xia_data,xia.toVector()))"
   ]
  },
  {
   "cell_type": "code",
   "execution_count": 41,
   "id": "2f94d8bc",
   "metadata": {},
   "outputs": [],
   "source": [
    "#format to 2 decinmal places\n",
    "\n",
    "Yuan_data=np.around(Yuan_data,2)\n",
    "Xia_data=np.around(Xia_data,2)"
   ]
  },
  {
   "cell_type": "code",
   "execution_count": 42,
   "id": "6250f797",
   "metadata": {},
   "outputs": [],
   "source": [
    "#add class label\n",
    "Yuan_data=np.hstack((Yuan_data,np.array([['YUAN']]*Yuan_data.shape[0]).reshape(-1,1)))\n",
    "Xia_data=np.hstack((Xia_data,np.array([['XIA']]*Xia_data.shape[0]).reshape(-1,1)))\n",
    "\n",
    "#add sample number\n",
    "Yuan_data=np.hstack((np.array(['YSN-{}'.format(i) for i in range(1,Yuan_data.shape[0]+1)]).reshape(-1,1),Yuan_data))\n",
    "Xia_data=np.hstack((np.array(['XSN-{}'.format(i) for i in range(1,Xia_data.shape[0]+1)]).reshape(-1,1),Xia_data))"
   ]
  },
  {
   "cell_type": "code",
   "execution_count": 43,
   "id": "516bac02",
   "metadata": {},
   "outputs": [],
   "source": [
    "#save to text files\n",
    "\n",
    "np.savetxt('Yuan.txt',Yuan_data,fmt='%s',delimiter=' ')\n",
    "np.savetxt('Xia.txt',Xia_data,fmt='%s',delimiter=' ')"
   ]
  },
  {
   "cell_type": "code",
   "execution_count": 44,
   "id": "23a0cc35",
   "metadata": {},
   "outputs": [],
   "source": [
    "#remove index and class label from the data\n",
    "\n",
    "Yuan_data=Yuan_data[:,1:-1].astype(float)\n",
    "Xia_data=Xia_data[:,1:-1].astype(float)"
   ]
  },
  {
   "cell_type": "code",
   "execution_count": 45,
   "id": "3fdafab9",
   "metadata": {},
   "outputs": [],
   "source": [
    "#split the data into training and testing sets in the ratio 70:30\n",
    "Yuan_train=Yuan_data[:int(0.7*Yuan_data.shape[0])]\n",
    "Yuan_test=Yuan_data[int(0.7*Yuan_data.shape[0]):]\n",
    "\n",
    "Xia_train=Xia_data[:int(0.7*Xia_data.shape[0])]\n",
    "Xia_test=Xia_data[int(0.7*Xia_data.shape[0]):]"
   ]
  },
  {
   "cell_type": "code",
   "execution_count": 46,
   "id": "bc568095",
   "metadata": {},
   "outputs": [],
   "source": [
    "#perform z-score normalization\n",
    "\n",
    "Yuan_train=(Yuan_train-Yuan_train.mean(axis=0))/Yuan_train.std(axis=0)\n",
    "Yuan_test=(Yuan_test-Yuan_test.mean(axis=0))/Yuan_test.std(axis=0)\n",
    "\n",
    "\n",
    "Xia_train=(Xia_train-Xia_train.mean(axis=0))/Xia_train.std(axis=0)\n",
    "Xia_test=(Xia_test-Xia_test.mean(axis=0))/Xia_test.std(axis=0)"
   ]
  },
  {
   "cell_type": "code",
   "execution_count": 47,
   "id": "cd3fe6e3",
   "metadata": {},
   "outputs": [],
   "source": [
    "#create the mean vector for each numeric feature\n",
    "\n",
    "Yuan_mean_vector=Yuan_train.mean(axis=0)\n",
    "Xia_mean_vector=Xia_train.mean(axis=0)"
   ]
  },
  {
   "cell_type": "code",
   "execution_count": 48,
   "id": "d6b71447",
   "metadata": {},
   "outputs": [],
   "source": [
    "#calculate the square root of the sum of the squared differences between the mean vector and each sample\n",
    "\n",
    "yuan_distances=np.sqrt(np.sum((Yuan_train-Yuan_mean_vector)**2,axis=1))\n",
    "xia_distances=np.sqrt(np.sum((Xia_train-Xia_mean_vector)**2,axis=1))"
   ]
  },
  {
   "cell_type": "code",
   "execution_count": 49,
   "id": "92ef055f",
   "metadata": {},
   "outputs": [
    {
     "name": "stdout",
     "output_type": "stream",
     "text": [
      "Yuan class\n",
      "Minimum distance: 1.8909581137935294\n",
      "Maximum distance: 3.5111799671645287\n",
      "Range: 1.6202218533709993\n",
      "Mean: 2.616818304568045\n",
      "Median: 2.588609173814545\n",
      "Variance: 0.15226196087762195\n",
      "Standard deviation: 0.3902075869042297\n",
      "\n",
      "\n",
      "\n",
      "\n",
      "Xia class\n",
      "Minimum distance: 1.3945770399704995\n",
      "Maximum distance: 3.3764408944517954\n",
      "Range: 1.9818638544812959\n",
      "Mean: 2.5809820586493104\n",
      "Median: 2.676373715228153\n",
      "Variance: 0.3385316129303689\n",
      "Standard deviation: 0.5818346955367726\n"
     ]
    }
   ],
   "source": [
    "#get minimum,maximum,range,mean,median,variance,standard deviation for each class\n",
    "\n",
    "yuan_min=np.min(yuan_distances)\n",
    "yuan_max=np.max(yuan_distances)\n",
    "yuan_range=yuan_max-yuan_min\n",
    "yuan_mean=np.mean(yuan_distances)\n",
    "yuan_median=np.median(yuan_distances)\n",
    "yuan_var=np.var(yuan_distances)\n",
    "yuan_std=np.std(yuan_distances)\n",
    "\n",
    "\n",
    "xia_min=np.min(xia_distances)\n",
    "xia_max=np.max(xia_distances)\n",
    "xia_range=xia_max-xia_min\n",
    "xia_mean=np.mean(xia_distances)\n",
    "xia_median=np.median(xia_distances)\n",
    "xia_var=np.var(xia_distances)\n",
    "xia_std=np.std(xia_distances)\n",
    "\n",
    "\n",
    "\n",
    "#print the analysis\n",
    "\n",
    "print('Yuan class')\n",
    "print('Minimum distance: {}'.format(yuan_min))\n",
    "print('Maximum distance: {}'.format(yuan_max))\n",
    "print('Range: {}'.format(yuan_range))\n",
    "print('Mean: {}'.format(yuan_mean))\n",
    "print('Median: {}'.format(yuan_median))\n",
    "print('Variance: {}'.format(yuan_var))\n",
    "print('Standard deviation: {}'.format(yuan_std))\n",
    "\n",
    "print(\"\\n\\n\\n\")\n",
    "\n",
    "print('Xia class')\n",
    "print('Minimum distance: {}'.format(xia_min))\n",
    "print('Maximum distance: {}'.format(xia_max))\n",
    "print('Range: {}'.format(xia_range))\n",
    "print('Mean: {}'.format(xia_mean))\n",
    "print('Median: {}'.format(xia_median))\n",
    "print('Variance: {}'.format(xia_var))\n",
    "print('Standard deviation: {}'.format(xia_std))\n"
   ]
  },
  {
   "cell_type": "code",
   "execution_count": 50,
   "id": "32c3b910",
   "metadata": {},
   "outputs": [],
   "source": [
    "#convert the test data to float\n",
    "Yuan_test=Yuan_test.astype(float)\n",
    "Xia_test=Xia_test.astype(float)"
   ]
  },
  {
   "cell_type": "code",
   "execution_count": 51,
   "id": "9f20f433",
   "metadata": {},
   "outputs": [
    {
     "name": "stdout",
     "output_type": "stream",
     "text": [
      "Accuracy: 1.0\n",
      "Error Rate: 0.0\n",
      "Confusion Matrix: [[5 0]\n",
      " [0 5]]\n"
     ]
    },
    {
     "data": {
      "image/png": "[encoded data removed]",
      "text/plain": [
       "<Figure size 432x288 with 2 Axes>"
      ]
     },
     "metadata": {
      "needs_background": "light"
     },
     "output_type": "display_data"
    }
   ],
   "source": [
    "#normalize the test data\n",
    "\n",
    "Yuan_test=(Yuan_test-Yuan_test.mean(axis=0))/Yuan_test.std(axis=0)\n",
    "Xia_test=(Xia_test-Xia_test.mean(axis=0))/Xia_test.std(axis=0)\n",
    "\n",
    "#euclidean distance between the each sample and the mean vector\n",
    "\n",
    "yuan_test_distances=np.sqrt(np.sum((Yuan_test-Yuan_mean_vector)**2,axis=1))\n",
    "xia_test_distances=np.sqrt(np.sum((Xia_test-Xia_mean_vector)**2,axis=1))\n",
    "\n",
    "#add sample number to distances\n",
    "\n",
    "yuan_test_distances=np.hstack((np.array(['YSN-{}'.format(i) for i in range(1,yuan_test_distances.shape[0]+1)]).reshape(-1,1),yuan_test_distances.reshape(-1,1)))\n",
    "xia_test_distances=np.hstack((np.array(['XSN-{}'.format(i) for i in range(1,xia_test_distances.shape[0]+1)]).reshape(-1,1),xia_test_distances.reshape(-1,1)))\n",
    "\n",
    "\n",
    "#classify the test data. If the distance is less than max distance of the training data, then it is classified as correct, otherwise it is classified as incorrect\n",
    "\n",
    "Yuan_correct=0\n",
    "Yuan_incorrect=0\n",
    "Xia_correct=0\n",
    "Xia_incorrect=0\n",
    "\n",
    "for i in range(yuan_test_distances.shape[0]):\n",
    "    if float(yuan_test_distances[i,1])<=yuan_max:\n",
    "        Yuan_correct+=1\n",
    "    else:\n",
    "        Yuan_incorrect+=1\n",
    "\n",
    "for i in range(xia_test_distances.shape[0]):\n",
    "    if float(xia_test_distances[i,1])<=xia_max:\n",
    "        Xia_correct+=1\n",
    "    else:\n",
    "        Xia_incorrect+=1\n",
    "\n",
    "\n",
    "accuracy=(Yuan_correct+Xia_correct)/(Yuan_correct+Yuan_incorrect+Xia_correct+Xia_incorrect)\n",
    "print(\"Accuracy: {}\".format(accuracy))\n",
    "\n",
    "#calculate error rate which is number of incorrect classifications divided by total number of classifications\n",
    "\n",
    "error_rate=(Yuan_incorrect+Xia_incorrect)/(Yuan_correct+Yuan_incorrect+Xia_correct+Xia_incorrect)\n",
    "print(\"Error Rate: {}\".format(error_rate))\n",
    "\n",
    "#calculate and plot confusion matrix\n",
    "\n",
    "confusion_matrix=np.array([[Yuan_correct,Xia_incorrect],[Xia_incorrect,Xia_correct]])\n",
    "print(\"Confusion Matrix: {}\".format(confusion_matrix))\n",
    "\n",
    "\n",
    "#plot confusion matrix as a heatmap\n",
    "import seaborn as sns\n",
    "sns.heatmap(confusion_matrix,annot=True,fmt='d',cmap='Blues')\n",
    "plt.xlabel('Predicted')\n",
    "plt.ylabel('Actual')\n",
    "plt.show()\n"
   ]
  }
 ],
 "metadata": {
  "kernelspec": {
   "display_name": "Python 3 (ipykernel)",
   "language": "python",
   "name": "python3"
  },
  "language_info": {
   "codemirror_mode": {
    "name": "ipython",
    "version": 3
   },
   "file_extension": ".py",
   "mimetype": "text/x-python",
   "name": "python",
   "nbconvert_exporter": "python",
   "pygments_lexer": "ipython3",
   "version": "3.9.7"
  },
  "vscode": {
   "interpreter": {
    "hash": "7f310d7e0f223ed1243083501ac25eecd2fc44a8e4063ab2bd081dbe5fedb3c8"
   }
  }
 },
 "nbformat": 4,
 "nbformat_minor": 5
}
